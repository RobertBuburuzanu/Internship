{
 "cells": [
  {
   "cell_type": "markdown",
   "id": "09040561",
   "metadata": {},
   "source": [
    "1. Scrape the details of most viewed videos on YouTube from Wikipedia.\n",
    "Url = https://en.wikipedia.org/wiki/List_of_most-viewed_YouTube_videos\n",
    "You need to find following details:\n",
    "A) Rank\n",
    "B) Name\n",
    "C) Artist\n",
    "D) Upload date\n",
    "E) Views\n"
   ]
  },
  {
   "cell_type": "code",
   "execution_count": 1,
   "id": "95883bac",
   "metadata": {},
   "outputs": [],
   "source": [
    "import selenium\n",
    "import pandas as pd\n",
    "from selenium import webdriver\n",
    "import warnings\n",
    "warnings.filterwarnings('ignore')\n",
    "from selenium.common.exceptions import StaleElementReferenceException, NoSuchElementException, ElementNotInteractableException, ElementClickInterceptedException\n",
    "from selenium.webdriver.common.by import By\n",
    "import undetected_chromedriver as uc\n",
    "import time"
   ]
  },
  {
   "cell_type": "code",
   "execution_count": 2,
   "id": "1200174c",
   "metadata": {},
   "outputs": [],
   "source": [
    "server = webdriver.Chrome()\n",
    "server.get('https://en.wikipedia.org/wiki/List_of_most-viewed_YouTube_videos')"
   ]
  },
  {
   "cell_type": "code",
   "execution_count": 3,
   "id": "ef50dfd6",
   "metadata": {},
   "outputs": [],
   "source": [
    "rank = []\n",
    "\n",
    "rank_tags = server.find_elements(By.XPATH, '//td[@align=\"center\"][1]')\n",
    "for i in rank_tags[0:30]:\n",
    "    ranks = i.text\n",
    "    rank.append(ranks)"
   ]
  },
  {
   "cell_type": "code",
   "execution_count": 4,
   "id": "d9acddf9",
   "metadata": {},
   "outputs": [],
   "source": [
    "name = []\n",
    "\n",
    "name_tags = server.find_elements(By.XPATH, '//*[@id=\"mw-content-text\"]/div[1]/table[2]/tbody/tr/td[2]')\n",
    "for i in name_tags[0:30]:\n",
    "    names = i.text\n",
    "    name.append(names)"
   ]
  },
  {
   "cell_type": "code",
   "execution_count": 5,
   "id": "1d925eda",
   "metadata": {},
   "outputs": [],
   "source": [
    "artist = []\n",
    "\n",
    "artist_tags = server.find_elements(By.XPATH, '//*[@id=\"mw-content-text\"]/div[1]/table[2]/tbody/tr/td[3]')\n",
    "for i in artist_tags[0:30]:\n",
    "    artists = i.text\n",
    "    artist.append(artists)"
   ]
  },
  {
   "cell_type": "code",
   "execution_count": 6,
   "id": "3bf95594",
   "metadata": {},
   "outputs": [],
   "source": [
    "views = []\n",
    "\n",
    "views_tags = server.find_elements(By.XPATH, '//*[@id=\"mw-content-text\"]/div[1]/table[2]/tbody/tr/td[4]')\n",
    "for i in views_tags[0:30]:\n",
    "    view = i.text\n",
    "    views.append(view)"
   ]
  },
  {
   "cell_type": "code",
   "execution_count": 7,
   "id": "54a06dbe",
   "metadata": {},
   "outputs": [],
   "source": [
    "date = []\n",
    "\n",
    "date_tags = server.find_elements(By.XPATH, '//*[@id=\"mw-content-text\"]/div[1]/table[2]/tbody/tr/td[5]')\n",
    "for i in date_tags[0:30]:\n",
    "    dates = i.text\n",
    "    date.append(dates)"
   ]
  },
  {
   "cell_type": "code",
   "execution_count": 8,
   "id": "bdc1c311",
   "metadata": {},
   "outputs": [
    {
     "data": {
      "text/plain": [
       "(30, 30, 30, 30, 30)"
      ]
     },
     "execution_count": 8,
     "metadata": {},
     "output_type": "execute_result"
    }
   ],
   "source": [
    "len(rank), len(name), len(artist), len(views), len(date)"
   ]
  },
  {
   "cell_type": "code",
   "execution_count": 9,
   "id": "5a792966",
   "metadata": {},
   "outputs": [
    {
     "data": {
      "text/html": [
       "<div>\n",
       "<style scoped>\n",
       "    .dataframe tbody tr th:only-of-type {\n",
       "        vertical-align: middle;\n",
       "    }\n",
       "\n",
       "    .dataframe tbody tr th {\n",
       "        vertical-align: top;\n",
       "    }\n",
       "\n",
       "    .dataframe thead th {\n",
       "        text-align: right;\n",
       "    }\n",
       "</style>\n",
       "<table border=\"1\" class=\"dataframe\">\n",
       "  <thead>\n",
       "    <tr style=\"text-align: right;\">\n",
       "      <th></th>\n",
       "      <th>Rank</th>\n",
       "      <th>Name</th>\n",
       "      <th>Artist</th>\n",
       "      <th>Views</th>\n",
       "      <th>Upload Date</th>\n",
       "    </tr>\n",
       "  </thead>\n",
       "  <tbody>\n",
       "    <tr>\n",
       "      <th>0</th>\n",
       "      <td>1.</td>\n",
       "      <td>\"Baby Shark Dance\"[4]</td>\n",
       "      <td>Pinkfong Baby Shark - Kids' Songs &amp; Stories</td>\n",
       "      <td>12.85</td>\n",
       "      <td>June 17, 2016</td>\n",
       "    </tr>\n",
       "    <tr>\n",
       "      <th>1</th>\n",
       "      <td>2.</td>\n",
       "      <td>\"Despacito\"[7]</td>\n",
       "      <td>Luis Fonsi</td>\n",
       "      <td>8.16</td>\n",
       "      <td>January 12, 2017</td>\n",
       "    </tr>\n",
       "    <tr>\n",
       "      <th>2</th>\n",
       "      <td>3.</td>\n",
       "      <td>\"Johny Johny Yes Papa\"[14]</td>\n",
       "      <td>LooLoo Kids</td>\n",
       "      <td>6.70</td>\n",
       "      <td>October 8, 2016</td>\n",
       "    </tr>\n",
       "    <tr>\n",
       "      <th>3</th>\n",
       "      <td>4.</td>\n",
       "      <td>\"Bath Song\"[15]</td>\n",
       "      <td>Cocomelon – Nursery Rhymes</td>\n",
       "      <td>6.20</td>\n",
       "      <td>May 2, 2018</td>\n",
       "    </tr>\n",
       "    <tr>\n",
       "      <th>4</th>\n",
       "      <td>5.</td>\n",
       "      <td>\"Shape of You\"[16]</td>\n",
       "      <td>Ed Sheeran</td>\n",
       "      <td>6.00</td>\n",
       "      <td>January 30, 2017</td>\n",
       "    </tr>\n",
       "    <tr>\n",
       "      <th>5</th>\n",
       "      <td>6.</td>\n",
       "      <td>\"See You Again\"[19]</td>\n",
       "      <td>Wiz Khalifa</td>\n",
       "      <td>5.89</td>\n",
       "      <td>April 6, 2015</td>\n",
       "    </tr>\n",
       "    <tr>\n",
       "      <th>6</th>\n",
       "      <td>7.</td>\n",
       "      <td>\"Phonics Song with Two Words\"[24]</td>\n",
       "      <td>ChuChu TV</td>\n",
       "      <td>5.30</td>\n",
       "      <td>March 6, 2014</td>\n",
       "    </tr>\n",
       "    <tr>\n",
       "      <th>7</th>\n",
       "      <td>8.</td>\n",
       "      <td>\"Wheels on the Bus\"[25]</td>\n",
       "      <td>Cocomelon – Nursery Rhymes</td>\n",
       "      <td>5.24</td>\n",
       "      <td>May 24, 2018</td>\n",
       "    </tr>\n",
       "    <tr>\n",
       "      <th>8</th>\n",
       "      <td>9.</td>\n",
       "      <td>\"Uptown Funk\"[26]</td>\n",
       "      <td>Mark Ronson</td>\n",
       "      <td>4.92</td>\n",
       "      <td>November 19, 2014</td>\n",
       "    </tr>\n",
       "    <tr>\n",
       "      <th>9</th>\n",
       "      <td>10.</td>\n",
       "      <td>\"Learning Colors – Colorful Eggs on a Farm\"[27]</td>\n",
       "      <td>Miroshka TV</td>\n",
       "      <td>4.89</td>\n",
       "      <td>February 27, 2018</td>\n",
       "    </tr>\n",
       "    <tr>\n",
       "      <th>10</th>\n",
       "      <td>11.</td>\n",
       "      <td>\"Gangnam Style\"[28]</td>\n",
       "      <td>Psy</td>\n",
       "      <td>4.80</td>\n",
       "      <td>July 15, 2012</td>\n",
       "    </tr>\n",
       "    <tr>\n",
       "      <th>11</th>\n",
       "      <td>12.</td>\n",
       "      <td>\"Masha and the Bear – Recipe for Disaster\"[33]</td>\n",
       "      <td>Get Movies</td>\n",
       "      <td>4.55</td>\n",
       "      <td>January 31, 2012</td>\n",
       "    </tr>\n",
       "    <tr>\n",
       "      <th>12</th>\n",
       "      <td>13.</td>\n",
       "      <td>\"Dame Tu Cosita\"[34]</td>\n",
       "      <td>El Chombo</td>\n",
       "      <td>4.35</td>\n",
       "      <td>April 5, 2018</td>\n",
       "    </tr>\n",
       "    <tr>\n",
       "      <th>13</th>\n",
       "      <td>14.</td>\n",
       "      <td>\"Axel F\"[35]</td>\n",
       "      <td>Crazy Frog</td>\n",
       "      <td>3.91</td>\n",
       "      <td>June 16, 2009</td>\n",
       "    </tr>\n",
       "    <tr>\n",
       "      <th>14</th>\n",
       "      <td>15.</td>\n",
       "      <td>\"Sugar\"[36]</td>\n",
       "      <td>Maroon 5</td>\n",
       "      <td>3.87</td>\n",
       "      <td>January 14, 2015</td>\n",
       "    </tr>\n",
       "    <tr>\n",
       "      <th>15</th>\n",
       "      <td>16.</td>\n",
       "      <td>\"Roar\"[37]</td>\n",
       "      <td>Katy Perry</td>\n",
       "      <td>3.80</td>\n",
       "      <td>September 5, 2013</td>\n",
       "    </tr>\n",
       "    <tr>\n",
       "      <th>16</th>\n",
       "      <td>17.</td>\n",
       "      <td>\"Counting Stars\"[38]</td>\n",
       "      <td>OneRepublic</td>\n",
       "      <td>3.79</td>\n",
       "      <td>May 31, 2013</td>\n",
       "    </tr>\n",
       "    <tr>\n",
       "      <th>17</th>\n",
       "      <td>18.</td>\n",
       "      <td>\"Sorry\"[39]</td>\n",
       "      <td>Justin Bieber</td>\n",
       "      <td>3.66</td>\n",
       "      <td>October 22, 2015</td>\n",
       "    </tr>\n",
       "    <tr>\n",
       "      <th>18</th>\n",
       "      <td>19.</td>\n",
       "      <td>\"Baa Baa Black Sheep\"[40]</td>\n",
       "      <td>Cocomelon – Nursery Rhymes</td>\n",
       "      <td>3.64</td>\n",
       "      <td>June 25, 2018</td>\n",
       "    </tr>\n",
       "    <tr>\n",
       "      <th>19</th>\n",
       "      <td>20.</td>\n",
       "      <td>\"Thinking Out Loud\"[41]</td>\n",
       "      <td>Ed Sheeran</td>\n",
       "      <td>3.60</td>\n",
       "      <td>October 7, 2014</td>\n",
       "    </tr>\n",
       "    <tr>\n",
       "      <th>20</th>\n",
       "      <td>21.</td>\n",
       "      <td>\"Waka Waka (This Time for Africa)\"[42]</td>\n",
       "      <td>Shakira</td>\n",
       "      <td>3.59</td>\n",
       "      <td>June 4, 2010</td>\n",
       "    </tr>\n",
       "    <tr>\n",
       "      <th>21</th>\n",
       "      <td>22.</td>\n",
       "      <td>\"Dark Horse\"[43]</td>\n",
       "      <td>Katy Perry</td>\n",
       "      <td>3.52</td>\n",
       "      <td>February 20, 2014</td>\n",
       "    </tr>\n",
       "    <tr>\n",
       "      <th>22</th>\n",
       "      <td>23.</td>\n",
       "      <td>\"Lakdi Ki Kathi\"[44]</td>\n",
       "      <td>Jingle Toons</td>\n",
       "      <td>3.48</td>\n",
       "      <td>June 14, 2018</td>\n",
       "    </tr>\n",
       "    <tr>\n",
       "      <th>23</th>\n",
       "      <td>24.</td>\n",
       "      <td>\"Faded\"[45]</td>\n",
       "      <td>Alan Walker</td>\n",
       "      <td>3.45</td>\n",
       "      <td>December 3, 2015</td>\n",
       "    </tr>\n",
       "    <tr>\n",
       "      <th>24</th>\n",
       "      <td>25.</td>\n",
       "      <td>\"Perfect\"[46]</td>\n",
       "      <td>Ed Sheeran</td>\n",
       "      <td>3.45</td>\n",
       "      <td>November 9, 2017</td>\n",
       "    </tr>\n",
       "    <tr>\n",
       "      <th>25</th>\n",
       "      <td>26.</td>\n",
       "      <td>\"Let Her Go\"[47]</td>\n",
       "      <td>Passenger</td>\n",
       "      <td>3.44</td>\n",
       "      <td>July 25, 2012</td>\n",
       "    </tr>\n",
       "    <tr>\n",
       "      <th>26</th>\n",
       "      <td>27.</td>\n",
       "      <td>\"Girls Like You\"[48]</td>\n",
       "      <td>Maroon 5</td>\n",
       "      <td>3.42</td>\n",
       "      <td>May 31, 2018</td>\n",
       "    </tr>\n",
       "    <tr>\n",
       "      <th>27</th>\n",
       "      <td>28.</td>\n",
       "      <td>\"Humpty the train on a fruits ride\"[49]</td>\n",
       "      <td>Kiddiestv Hindi – Nursery Rhymes &amp; Kids Songs</td>\n",
       "      <td>3.41</td>\n",
       "      <td>January 26, 2018</td>\n",
       "    </tr>\n",
       "    <tr>\n",
       "      <th>28</th>\n",
       "      <td>29.</td>\n",
       "      <td>\"Lean On\"[50]</td>\n",
       "      <td>Major Lazer</td>\n",
       "      <td>3.38</td>\n",
       "      <td>March 22, 2015</td>\n",
       "    </tr>\n",
       "    <tr>\n",
       "      <th>29</th>\n",
       "      <td>30.</td>\n",
       "      <td>\"Bailando\"[51]</td>\n",
       "      <td>Enrique Iglesias</td>\n",
       "      <td>3.38</td>\n",
       "      <td>April 11, 2014</td>\n",
       "    </tr>\n",
       "  </tbody>\n",
       "</table>\n",
       "</div>"
      ],
      "text/plain": [
       "   Rank                                             Name  \\\n",
       "0    1.                            \"Baby Shark Dance\"[4]   \n",
       "1    2.                                   \"Despacito\"[7]   \n",
       "2    3.                       \"Johny Johny Yes Papa\"[14]   \n",
       "3    4.                                  \"Bath Song\"[15]   \n",
       "4    5.                               \"Shape of You\"[16]   \n",
       "5    6.                              \"See You Again\"[19]   \n",
       "6    7.                \"Phonics Song with Two Words\"[24]   \n",
       "7    8.                          \"Wheels on the Bus\"[25]   \n",
       "8    9.                                \"Uptown Funk\"[26]   \n",
       "9   10.  \"Learning Colors – Colorful Eggs on a Farm\"[27]   \n",
       "10  11.                              \"Gangnam Style\"[28]   \n",
       "11  12.   \"Masha and the Bear – Recipe for Disaster\"[33]   \n",
       "12  13.                             \"Dame Tu Cosita\"[34]   \n",
       "13  14.                                     \"Axel F\"[35]   \n",
       "14  15.                                      \"Sugar\"[36]   \n",
       "15  16.                                       \"Roar\"[37]   \n",
       "16  17.                             \"Counting Stars\"[38]   \n",
       "17  18.                                      \"Sorry\"[39]   \n",
       "18  19.                        \"Baa Baa Black Sheep\"[40]   \n",
       "19  20.                          \"Thinking Out Loud\"[41]   \n",
       "20  21.           \"Waka Waka (This Time for Africa)\"[42]   \n",
       "21  22.                                 \"Dark Horse\"[43]   \n",
       "22  23.                             \"Lakdi Ki Kathi\"[44]   \n",
       "23  24.                                      \"Faded\"[45]   \n",
       "24  25.                                    \"Perfect\"[46]   \n",
       "25  26.                                 \"Let Her Go\"[47]   \n",
       "26  27.                             \"Girls Like You\"[48]   \n",
       "27  28.          \"Humpty the train on a fruits ride\"[49]   \n",
       "28  29.                                    \"Lean On\"[50]   \n",
       "29  30.                                   \"Bailando\"[51]   \n",
       "\n",
       "                                           Artist  Views        Upload Date  \n",
       "0     Pinkfong Baby Shark - Kids' Songs & Stories  12.85      June 17, 2016  \n",
       "1                                      Luis Fonsi   8.16   January 12, 2017  \n",
       "2                                     LooLoo Kids   6.70    October 8, 2016  \n",
       "3                      Cocomelon – Nursery Rhymes   6.20        May 2, 2018  \n",
       "4                                      Ed Sheeran   6.00   January 30, 2017  \n",
       "5                                     Wiz Khalifa   5.89      April 6, 2015  \n",
       "6                                       ChuChu TV   5.30      March 6, 2014  \n",
       "7                      Cocomelon – Nursery Rhymes   5.24       May 24, 2018  \n",
       "8                                     Mark Ronson   4.92  November 19, 2014  \n",
       "9                                     Miroshka TV   4.89  February 27, 2018  \n",
       "10                                            Psy   4.80      July 15, 2012  \n",
       "11                                     Get Movies   4.55   January 31, 2012  \n",
       "12                                      El Chombo   4.35      April 5, 2018  \n",
       "13                                     Crazy Frog   3.91      June 16, 2009  \n",
       "14                                       Maroon 5   3.87   January 14, 2015  \n",
       "15                                     Katy Perry   3.80  September 5, 2013  \n",
       "16                                    OneRepublic   3.79       May 31, 2013  \n",
       "17                                  Justin Bieber   3.66   October 22, 2015  \n",
       "18                     Cocomelon – Nursery Rhymes   3.64      June 25, 2018  \n",
       "19                                     Ed Sheeran   3.60    October 7, 2014  \n",
       "20                                        Shakira   3.59       June 4, 2010  \n",
       "21                                     Katy Perry   3.52  February 20, 2014  \n",
       "22                                   Jingle Toons   3.48      June 14, 2018  \n",
       "23                                    Alan Walker   3.45   December 3, 2015  \n",
       "24                                     Ed Sheeran   3.45   November 9, 2017  \n",
       "25                                      Passenger   3.44      July 25, 2012  \n",
       "26                                       Maroon 5   3.42       May 31, 2018  \n",
       "27  Kiddiestv Hindi – Nursery Rhymes & Kids Songs   3.41   January 26, 2018  \n",
       "28                                    Major Lazer   3.38     March 22, 2015  \n",
       "29                               Enrique Iglesias   3.38     April 11, 2014  "
      ]
     },
     "execution_count": 9,
     "metadata": {},
     "output_type": "execute_result"
    }
   ],
   "source": [
    "df = pd.DataFrame({'Rank':rank,'Name':name,'Artist':artist,'Views':views,'Upload Date':date})\n",
    "df"
   ]
  },
  {
   "cell_type": "code",
   "execution_count": 10,
   "id": "3529a2c2",
   "metadata": {},
   "outputs": [],
   "source": [
    "server.close()"
   ]
  },
  {
   "cell_type": "markdown",
   "id": "96080766",
   "metadata": {},
   "source": [
    "2. Scrape the details team India’s international fixtures from bcci.tv.\n",
    "Url = https://www.bcci.tv/.\n",
    "You need to find following details:\n",
    "A) Match title (I.e. 1stODI)\n",
    "B) Series\n",
    "C) Place\n",
    "D) Date\n",
    "E) Time"
   ]
  },
  {
   "cell_type": "code",
   "execution_count": 17,
   "id": "81dc2552",
   "metadata": {},
   "outputs": [],
   "source": [
    "driver = uc.Chrome()\n",
    "driver.get('https://www.bcci.tv/')"
   ]
  },
  {
   "cell_type": "code",
   "execution_count": 30,
   "id": "1fd51dc3",
   "metadata": {},
   "outputs": [],
   "source": [
    "button = driver.find_element(By.XPATH,'//*[@id=\"navigation\"]/ul[1]/li[2]/a')\n",
    "button.click()"
   ]
  },
  {
   "cell_type": "code",
   "execution_count": 31,
   "id": "65a8f530",
   "metadata": {},
   "outputs": [],
   "source": [
    "match = driver.find_element(By.XPATH, '//*[@id=\"match-card\"]/div[3]/a')\n",
    "match.click()"
   ]
  },
  {
   "cell_type": "code",
   "execution_count": 33,
   "id": "5cf24e82",
   "metadata": {},
   "outputs": [],
   "source": [
    "match = []\n",
    "\n",
    "match_tags = driver.find_elements(By.XPATH, '//*[@id=\"rightPanel\"]/div[1]/div/ul/li[2]/span[2]')\n",
    "for i in match_tags:\n",
    "    matches = i.text\n",
    "    match.append(matches)\n",
    "    \n",
    "series = []\n",
    "\n",
    "series_tags = driver.find_elements(By.XPATH, '//*[@id=\"rightPanel\"]/div[1]/div/ul/li[1]/span[2]')\n",
    "for i in series_tags:\n",
    "    serie= i.text\n",
    "    series.append(serie)\n",
    "    \n",
    "place = []\n",
    "\n",
    "place_tags = driver.find_elements(By.XPATH, '//*[@id=\"scoreBox\"]/div[1]/div/div[2]/div[3]/div[3]')\n",
    "for i in place_tags:\n",
    "    places = i.text\n",
    "    place.append(places)\n",
    "    \n",
    "date = []\n",
    "\n",
    "date_tags = driver.find_elements(By.XPATH, '//*[@id=\"scoreBox\"]/div[1]/div/div[2]/div[3]/div[2]')\n",
    "for i in date_tags:\n",
    "    dates = i.text\n",
    "    date.append(dates)"
   ]
  },
  {
   "cell_type": "code",
   "execution_count": 34,
   "id": "4df907d2",
   "metadata": {},
   "outputs": [],
   "source": [
    "back = driver.find_element(By.XPATH,'//*[@id=\"nav-main\"]/div[1]/a[1]')\n",
    "back.click()\n",
    "\n",
    "# i had to go back on the main page because on the match page I didint find the time. "
   ]
  },
  {
   "cell_type": "code",
   "execution_count": 39,
   "id": "da5533e6",
   "metadata": {},
   "outputs": [
    {
     "data": {
      "text/plain": [
       "['11:00 AM BST']"
      ]
     },
     "execution_count": 39,
     "metadata": {},
     "output_type": "execute_result"
    }
   ],
   "source": [
    "time = []\n",
    "\n",
    "time_tags = driver.find_elements(By.XPATH, '//*[@id=\"match-card\"]/div[1]/div/div[2]')\n",
    "for i in time_tags[0:1]:\n",
    "    times = i.text\n",
    "    time.append(times)\n",
    "time"
   ]
  },
  {
   "cell_type": "code",
   "execution_count": 40,
   "id": "b2415784",
   "metadata": {},
   "outputs": [
    {
     "data": {
      "text/plain": [
       "(1, 1, 1, 1, 1)"
      ]
     },
     "execution_count": 40,
     "metadata": {},
     "output_type": "execute_result"
    }
   ],
   "source": [
    "len(match), len(series), len(place), len(date), len(time)"
   ]
  },
  {
   "cell_type": "code",
   "execution_count": null,
   "id": "a78f4190",
   "metadata": {},
   "outputs": [],
   "source": []
  },
  {
   "cell_type": "code",
   "execution_count": 41,
   "id": "a9bffbb5",
   "metadata": {},
   "outputs": [
    {
     "data": {
      "text/html": [
       "<div>\n",
       "<style scoped>\n",
       "    .dataframe tbody tr th:only-of-type {\n",
       "        vertical-align: middle;\n",
       "    }\n",
       "\n",
       "    .dataframe tbody tr th {\n",
       "        vertical-align: top;\n",
       "    }\n",
       "\n",
       "    .dataframe thead th {\n",
       "        text-align: right;\n",
       "    }\n",
       "</style>\n",
       "<table border=\"1\" class=\"dataframe\">\n",
       "  <thead>\n",
       "    <tr style=\"text-align: right;\">\n",
       "      <th></th>\n",
       "      <th>Match title</th>\n",
       "      <th>Series</th>\n",
       "      <th>Place</th>\n",
       "      <th>Date</th>\n",
       "      <th>Time</th>\n",
       "    </tr>\n",
       "  </thead>\n",
       "  <tbody>\n",
       "    <tr>\n",
       "      <th>0</th>\n",
       "      <td>India VS Australia</td>\n",
       "      <td>ICC WORLD TEST CHAMPIONSHIP FINAL 2023</td>\n",
       "      <td>KENNINGTON OVAL ,  LONDON</td>\n",
       "      <td>7 JUN 2023</td>\n",
       "      <td>11:00 AM BST</td>\n",
       "    </tr>\n",
       "  </tbody>\n",
       "</table>\n",
       "</div>"
      ],
      "text/plain": [
       "          Match title                                  Series  \\\n",
       "0  India VS Australia  ICC WORLD TEST CHAMPIONSHIP FINAL 2023   \n",
       "\n",
       "                       Place        Date          Time  \n",
       "0  KENNINGTON OVAL ,  LONDON  7 JUN 2023  11:00 AM BST  "
      ]
     },
     "execution_count": 41,
     "metadata": {},
     "output_type": "execute_result"
    }
   ],
   "source": [
    "df = pd.DataFrame({'Match title':match,'Series':series,'Place':place,'Date':date,'Time':time})\n",
    "df"
   ]
  },
  {
   "cell_type": "code",
   "execution_count": null,
   "id": "8ee2d38a",
   "metadata": {},
   "outputs": [],
   "source": []
  },
  {
   "cell_type": "code",
   "execution_count": null,
   "id": "c72bf68a",
   "metadata": {},
   "outputs": [],
   "source": []
  },
  {
   "cell_type": "markdown",
   "id": "02cffd3d",
   "metadata": {},
   "source": [
    "3. Scrape the details of State-wise GDP of India from statisticstime.com.\n",
    "Url = http://statisticstimes.com/\n",
    "You have to find following details:\n",
    "A) Rank\n",
    "B) State\n",
    "C) GSDP(18-19)- at current prices\n",
    "D) GSDP(19-20)- at current prices\n",
    "E) Share(18-19)\n",
    "F) GDP($ billion)"
   ]
  },
  {
   "cell_type": "code",
   "execution_count": null,
   "id": "fdea0491",
   "metadata": {},
   "outputs": [],
   "source": [
    "# i couldnt find the info requested for this question"
   ]
  },
  {
   "cell_type": "code",
   "execution_count": null,
   "id": "9472f4a7",
   "metadata": {},
   "outputs": [],
   "source": []
  },
  {
   "cell_type": "markdown",
   "id": "e2944e40",
   "metadata": {},
   "source": [
    "4. Scrape the details of trending repositories on Github.com.\n",
    "Url = https://github.com/\n",
    "You have to find the following details:\n",
    "A) Repository title\n",
    "B) Repository description\n",
    "C) Contributors count\n",
    "D) Language used"
   ]
  },
  {
   "cell_type": "code",
   "execution_count": 43,
   "id": "7c2fe2e4",
   "metadata": {},
   "outputs": [],
   "source": [
    "driver = webdriver.Chrome()\n",
    "driver.get('https://github.com/')"
   ]
  },
  {
   "cell_type": "code",
   "execution_count": 46,
   "id": "672b6328",
   "metadata": {},
   "outputs": [],
   "source": [
    "button = driver.find_element(By.XPATH, '/html/body/div[1]/div[1]/header/div/div[2]/div/nav/ul/li[3]')\n",
    "button.click()"
   ]
  },
  {
   "cell_type": "code",
   "execution_count": 47,
   "id": "86328d1e",
   "metadata": {},
   "outputs": [],
   "source": [
    "trending = driver.find_element(By.XPATH,'/html/body/div[1]/div[1]/header/div/div[2]/div/nav/ul/li[3]/div/div[3]/ul/li[2]/a')\n",
    "trending.click()"
   ]
  },
  {
   "cell_type": "code",
   "execution_count": 51,
   "id": "d88cde5c",
   "metadata": {},
   "outputs": [
    {
     "data": {
      "text/plain": [
       "25"
      ]
     },
     "execution_count": 51,
     "metadata": {},
     "output_type": "execute_result"
    }
   ],
   "source": [
    "title = []\n",
    "\n",
    "title_tags = driver.find_elements(By.XPATH,'//span[@class=\"text-normal\"]')\n",
    "for i in title_tags:\n",
    "    titles = i.text\n",
    "    title.append(titles)\n",
    "len(title)"
   ]
  },
  {
   "cell_type": "code",
   "execution_count": 55,
   "id": "50849735",
   "metadata": {},
   "outputs": [
    {
     "data": {
      "text/plain": [
       "25"
      ]
     },
     "execution_count": 55,
     "metadata": {},
     "output_type": "execute_result"
    }
   ],
   "source": [
    "description = []\n",
    "\n",
    "description_tags = driver.find_elements(By.XPATH,'//p[@class=\"col-9 color-fg-muted my-1 pr-4\"]')\n",
    "for i in description_tags:\n",
    "    descriptions = i.text\n",
    "    description.append(descriptions)\n",
    "len(description)"
   ]
  },
  {
   "cell_type": "code",
   "execution_count": 57,
   "id": "8367191f",
   "metadata": {},
   "outputs": [
    {
     "data": {
      "text/plain": [
       "25"
      ]
     },
     "execution_count": 57,
     "metadata": {},
     "output_type": "execute_result"
    }
   ],
   "source": [
    "contributors = []\n",
    "\n",
    "contributors_tags = driver.find_elements(By.XPATH, '//span[@class=\"d-inline-block mr-3\"]')\n",
    "for i in contributors_tags:\n",
    "    contributor = i.text\n",
    "    contributors.append(contributor)\n",
    "len(contributors)"
   ]
  },
  {
   "cell_type": "code",
   "execution_count": 71,
   "id": "9eae8c79",
   "metadata": {},
   "outputs": [
    {
     "data": {
      "text/plain": [
       "24"
      ]
     },
     "execution_count": 71,
     "metadata": {},
     "output_type": "execute_result"
    }
   ],
   "source": [
    "language = []\n",
    "\n",
    "language_tags = driver.find_elements(By.XPATH, '//span[@class=\"d-inline-block ml-0 mr-3\"]/span[2]')\n",
    "for i in language_tags:\n",
    "    try:\n",
    "        languages = i.text\n",
    "        language.append(languages)\n",
    "    except NoSuchElementException:\n",
    "        language.append('-')  \n",
    "len(language)"
   ]
  },
  {
   "cell_type": "code",
   "execution_count": null,
   "id": "0e5a71ad",
   "metadata": {},
   "outputs": [],
   "source": []
  },
  {
   "cell_type": "markdown",
   "id": "d48939ef",
   "metadata": {},
   "source": [
    "5. Scrape the details of top 100 songs on billiboard.com.\n",
    "\n",
    "Url = https:/www.billboard.com/\n",
    "\n",
    "You have to find the following details:\n",
    "    1. Song name\n",
    "    2. Artist name\n",
    "    3. Last week rank\n",
    "    4. Peak rank\n",
    "    5. Weeks on board\n",
    "\n",
    "Note: - From the home page you have to click on the charts option then hot 100-page link through code.\n"
   ]
  },
  {
   "cell_type": "code",
   "execution_count": 11,
   "id": "d3b64c68",
   "metadata": {},
   "outputs": [],
   "source": [
    "url = webdriver.Chrome()\n",
    "url.get('https://www.billboard.com/')\n",
    "time.sleep(3)"
   ]
  },
  {
   "cell_type": "code",
   "execution_count": 12,
   "id": "8cf90c0d",
   "metadata": {},
   "outputs": [],
   "source": [
    "cookie = url.find_element(By.XPATH, '//button[@id=\"onetrust-accept-btn-handler\"]')\n",
    "cookie.click()"
   ]
  },
  {
   "cell_type": "code",
   "execution_count": 13,
   "id": "d7842e66",
   "metadata": {},
   "outputs": [],
   "source": [
    "chart = url.find_element(By.XPATH,'//*[@id=\"main-wrapper\"]/header/div/div[2]/div/div/div[2]/div[2]/div/div/nav/ul/li[1]/a')\n",
    "chart.click()"
   ]
  },
  {
   "cell_type": "code",
   "execution_count": 14,
   "id": "c1faca92",
   "metadata": {},
   "outputs": [],
   "source": [
    "view_chart = url.find_element(By.XPATH, '//*[@id=\"main-wrapper\"]/main/div[2]/div[1]/div[1]/div/div/div[3]/a')\n",
    "view_chart.click()"
   ]
  },
  {
   "cell_type": "code",
   "execution_count": 17,
   "id": "06056d2a",
   "metadata": {},
   "outputs": [
    {
     "data": {
      "text/plain": [
       "100"
      ]
     },
     "execution_count": 17,
     "metadata": {},
     "output_type": "execute_result"
    }
   ],
   "source": [
    "song = []\n",
    "\n",
    "song_tags = url.find_elements(By.XPATH, '//li[@class=\"lrv-u-width-100p\"]/ul/li/h3')\n",
    "for i in song_tags:\n",
    "    songs = i.text\n",
    "    song.append(songs)\n",
    "len(song)"
   ]
  },
  {
   "cell_type": "code",
   "execution_count": 18,
   "id": "2313f36c",
   "metadata": {},
   "outputs": [
    {
     "data": {
      "text/plain": [
       "100"
      ]
     },
     "execution_count": 18,
     "metadata": {},
     "output_type": "execute_result"
    }
   ],
   "source": [
    "artist = []\n",
    "\n",
    "artist_tags = url.find_elements(By.XPATH, '//*[@id=\"post-1479786\"]/div[3]/div/div/div/div[2]/div/ul/li/ul/li[1]/span')\n",
    "for i in artist_tags:\n",
    "    artists = i.text\n",
    "    artist.append(artists)\n",
    "len(artist)"
   ]
  },
  {
   "cell_type": "code",
   "execution_count": 19,
   "id": "c5180aee",
   "metadata": {},
   "outputs": [
    {
     "data": {
      "text/plain": [
       "100"
      ]
     },
     "execution_count": 19,
     "metadata": {},
     "output_type": "execute_result"
    }
   ],
   "source": [
    "last_week = []\n",
    "\n",
    "last_week_tags = url.find_elements(By.XPATH, '//*[@id=\"post-1479786\"]/div[3]/div/div/div/div[2]/div/ul/li[4]/ul/li[4]/span')\n",
    "for i in last_week_tags:\n",
    "    weeks = i.text\n",
    "    last_week.append(weeks)\n",
    "len(last_week)"
   ]
  },
  {
   "cell_type": "code",
   "execution_count": 20,
   "id": "dbcb74d3",
   "metadata": {},
   "outputs": [
    {
     "data": {
      "text/plain": [
       "100"
      ]
     },
     "execution_count": 20,
     "metadata": {},
     "output_type": "execute_result"
    }
   ],
   "source": [
    "peak = []\n",
    "\n",
    "peak_tags = url.find_elements(By.XPATH, '//*[@id=\"post-1479786\"]/div[3]/div/div/div/div[2]/div/ul/li[4]/ul/li[5]/span')\n",
    "for i in peak_tags:\n",
    "    peaks = i.text\n",
    "    peak.append(peaks)\n",
    "len(peak)"
   ]
  },
  {
   "cell_type": "code",
   "execution_count": 22,
   "id": "489ada2e",
   "metadata": {},
   "outputs": [
    {
     "data": {
      "text/plain": [
       "100"
      ]
     },
     "execution_count": 22,
     "metadata": {},
     "output_type": "execute_result"
    }
   ],
   "source": [
    "weeks = [] \n",
    "\n",
    "weeks_tags = url.find_elements(By.XPATH, '//*[@id=\"post-1479786\"]/div[3]/div/div/div/div[2]/div/ul/li[4]/ul/li[6]/span')\n",
    "for i in weeks_tags:\n",
    "    week = i.text\n",
    "    weeks.append(week)\n",
    "len(weeks)"
   ]
  },
  {
   "cell_type": "code",
   "execution_count": 23,
   "id": "4658642e",
   "metadata": {},
   "outputs": [
    {
     "data": {
      "text/html": [
       "<div>\n",
       "<style scoped>\n",
       "    .dataframe tbody tr th:only-of-type {\n",
       "        vertical-align: middle;\n",
       "    }\n",
       "\n",
       "    .dataframe tbody tr th {\n",
       "        vertical-align: top;\n",
       "    }\n",
       "\n",
       "    .dataframe thead th {\n",
       "        text-align: right;\n",
       "    }\n",
       "</style>\n",
       "<table border=\"1\" class=\"dataframe\">\n",
       "  <thead>\n",
       "    <tr style=\"text-align: right;\">\n",
       "      <th></th>\n",
       "      <th>Song Name</th>\n",
       "      <th>Artist Name</th>\n",
       "      <th>Last week rank</th>\n",
       "      <th>Peak rank</th>\n",
       "      <th>Weeks on board</th>\n",
       "    </tr>\n",
       "  </thead>\n",
       "  <tbody>\n",
       "    <tr>\n",
       "      <th>0</th>\n",
       "      <td>Last Night</td>\n",
       "      <td>Morgan Wallen</td>\n",
       "      <td>1</td>\n",
       "      <td>1</td>\n",
       "      <td>16</td>\n",
       "    </tr>\n",
       "    <tr>\n",
       "      <th>1</th>\n",
       "      <td>All My Life</td>\n",
       "      <td>Lil Durk Featuring J. Cole</td>\n",
       "      <td>-</td>\n",
       "      <td>2</td>\n",
       "      <td>1</td>\n",
       "    </tr>\n",
       "    <tr>\n",
       "      <th>2</th>\n",
       "      <td>Flowers</td>\n",
       "      <td>Miley Cyrus</td>\n",
       "      <td>3</td>\n",
       "      <td>1</td>\n",
       "      <td>18</td>\n",
       "    </tr>\n",
       "    <tr>\n",
       "      <th>3</th>\n",
       "      <td>Kill Bill</td>\n",
       "      <td>SZA</td>\n",
       "      <td>2</td>\n",
       "      <td>1</td>\n",
       "      <td>23</td>\n",
       "    </tr>\n",
       "    <tr>\n",
       "      <th>4</th>\n",
       "      <td>Ella Baila Sola</td>\n",
       "      <td>Eslabon Armado X Peso Pluma</td>\n",
       "      <td>4</td>\n",
       "      <td>4</td>\n",
       "      <td>9</td>\n",
       "    </tr>\n",
       "    <tr>\n",
       "      <th>...</th>\n",
       "      <td>...</td>\n",
       "      <td>...</td>\n",
       "      <td>...</td>\n",
       "      <td>...</td>\n",
       "      <td>...</td>\n",
       "    </tr>\n",
       "    <tr>\n",
       "      <th>95</th>\n",
       "      <td>Forever</td>\n",
       "      <td>Lil Baby Featuring Fridayy</td>\n",
       "      <td>87</td>\n",
       "      <td>8</td>\n",
       "      <td>19</td>\n",
       "    </tr>\n",
       "    <tr>\n",
       "      <th>96</th>\n",
       "      <td>Private Landing</td>\n",
       "      <td>Don Toliver Featuring Justin Bieber &amp; Future</td>\n",
       "      <td>100</td>\n",
       "      <td>72</td>\n",
       "      <td>6</td>\n",
       "    </tr>\n",
       "    <tr>\n",
       "      <th>97</th>\n",
       "      <td>I Heard</td>\n",
       "      <td>YoungBoy Never Broke Again</td>\n",
       "      <td>-</td>\n",
       "      <td>98</td>\n",
       "      <td>1</td>\n",
       "    </tr>\n",
       "    <tr>\n",
       "      <th>98</th>\n",
       "      <td>Sunrise</td>\n",
       "      <td>Morgan Wallen</td>\n",
       "      <td>89</td>\n",
       "      <td>30</td>\n",
       "      <td>11</td>\n",
       "    </tr>\n",
       "    <tr>\n",
       "      <th>99</th>\n",
       "      <td>Happy</td>\n",
       "      <td>NF</td>\n",
       "      <td>95</td>\n",
       "      <td>54</td>\n",
       "      <td>6</td>\n",
       "    </tr>\n",
       "  </tbody>\n",
       "</table>\n",
       "<p>100 rows × 5 columns</p>\n",
       "</div>"
      ],
      "text/plain": [
       "          Song Name                                   Artist Name  \\\n",
       "0        Last Night                                 Morgan Wallen   \n",
       "1       All My Life                    Lil Durk Featuring J. Cole   \n",
       "2           Flowers                                   Miley Cyrus   \n",
       "3         Kill Bill                                           SZA   \n",
       "4   Ella Baila Sola                   Eslabon Armado X Peso Pluma   \n",
       "..              ...                                           ...   \n",
       "95          Forever                    Lil Baby Featuring Fridayy   \n",
       "96  Private Landing  Don Toliver Featuring Justin Bieber & Future   \n",
       "97          I Heard                    YoungBoy Never Broke Again   \n",
       "98          Sunrise                                 Morgan Wallen   \n",
       "99            Happy                                            NF   \n",
       "\n",
       "   Last week rank Peak rank Weeks on board  \n",
       "0               1         1             16  \n",
       "1               -         2              1  \n",
       "2               3         1             18  \n",
       "3               2         1             23  \n",
       "4               4         4              9  \n",
       "..            ...       ...            ...  \n",
       "95             87         8             19  \n",
       "96            100        72              6  \n",
       "97              -        98              1  \n",
       "98             89        30             11  \n",
       "99             95        54              6  \n",
       "\n",
       "[100 rows x 5 columns]"
      ]
     },
     "execution_count": 23,
     "metadata": {},
     "output_type": "execute_result"
    }
   ],
   "source": [
    "df = pd.DataFrame({'Song Name':song, 'Artist Name':artist,'Last week rank':last_week,'Peak rank':peak,'Weeks on board':weeks})\n",
    "df"
   ]
  },
  {
   "cell_type": "code",
   "execution_count": null,
   "id": "306e1e6d",
   "metadata": {},
   "outputs": [],
   "source": []
  },
  {
   "cell_type": "markdown",
   "id": "c9905bdf",
   "metadata": {},
   "source": [
    "6. Scrape the details of Highest selling novels.\n",
    "Url = https://www.theguardian.com/news/datablog/2012/aug/09/best-selling-books-all-time-fifty-shades-grey-compare\n",
    "You have to find the following details:\n",
    "A) Book name\n",
    "B) Author name\n",
    "C) Volumes sold\n",
    "D) Publisher\n",
    "E) Genre\n"
   ]
  },
  {
   "cell_type": "code",
   "execution_count": 24,
   "id": "e640e80a",
   "metadata": {},
   "outputs": [],
   "source": [
    "server = webdriver.Chrome()\n",
    "server.get('https://www.theguardian.com/news/datablog/2012/aug/09/best-selling-books-all-time-fifty-shades-grey-compare')"
   ]
  },
  {
   "cell_type": "code",
   "execution_count": null,
   "id": "7faf8a4e",
   "metadata": {},
   "outputs": [],
   "source": []
  },
  {
   "cell_type": "code",
   "execution_count": 25,
   "id": "c74739cb",
   "metadata": {},
   "outputs": [
    {
     "data": {
      "text/plain": [
       "100"
      ]
     },
     "execution_count": 25,
     "metadata": {},
     "output_type": "execute_result"
    }
   ],
   "source": [
    "book = []\n",
    "\n",
    "book_tags = server.find_elements(By.XPATH, '//*[@id=\"article-body-blocks\"]/div/table/tbody/tr/td[2]')\n",
    "for i in book_tags:\n",
    "    books = i.text\n",
    "    book.append(books)\n",
    "len(book)"
   ]
  },
  {
   "cell_type": "code",
   "execution_count": 26,
   "id": "cca40611",
   "metadata": {},
   "outputs": [
    {
     "data": {
      "text/plain": [
       "100"
      ]
     },
     "execution_count": 26,
     "metadata": {},
     "output_type": "execute_result"
    }
   ],
   "source": [
    "author = []\n",
    "\n",
    "author_tags = server.find_elements(By.XPATH, '//*[@id=\"article-body-blocks\"]/div/table/tbody/tr/td[3]')\n",
    "for i in author_tags:\n",
    "    authors = i.text\n",
    "    author.append(authors)\n",
    "len(author)"
   ]
  },
  {
   "cell_type": "code",
   "execution_count": 27,
   "id": "d4c69efe",
   "metadata": {},
   "outputs": [
    {
     "data": {
      "text/plain": [
       "100"
      ]
     },
     "execution_count": 27,
     "metadata": {},
     "output_type": "execute_result"
    }
   ],
   "source": [
    "volum = []\n",
    "\n",
    "volum_tags = server.find_elements(By.XPATH, '//*[@id=\"article-body-blocks\"]/div/table/tbody/tr/td[4]')\n",
    "for i in volum_tags:\n",
    "    volums = i.text\n",
    "    volum.append(volums)\n",
    "len(volum)"
   ]
  },
  {
   "cell_type": "code",
   "execution_count": 28,
   "id": "b803d437",
   "metadata": {},
   "outputs": [
    {
     "data": {
      "text/plain": [
       "100"
      ]
     },
     "execution_count": 28,
     "metadata": {},
     "output_type": "execute_result"
    }
   ],
   "source": [
    "publ = []\n",
    "\n",
    "publ_tags = server.find_elements(By.XPATH, '//*[@id=\"article-body-blocks\"]/div/table/tbody/tr/td[5]')\n",
    "for i in publ_tags:\n",
    "    publs = i.text\n",
    "    publ.append(publs)\n",
    "len(publ)"
   ]
  },
  {
   "cell_type": "code",
   "execution_count": 29,
   "id": "5c811d68",
   "metadata": {},
   "outputs": [
    {
     "data": {
      "text/plain": [
       "100"
      ]
     },
     "execution_count": 29,
     "metadata": {},
     "output_type": "execute_result"
    }
   ],
   "source": [
    "genre = []\n",
    "\n",
    "genre_tags = server.find_elements(By.XPATH, '//*[@id=\"article-body-blocks\"]/div/table/tbody/tr/td[6]')\n",
    "for i in genre_tags:\n",
    "    genres = i.text\n",
    "    genre.append(genres)\n",
    "len(genre)"
   ]
  },
  {
   "cell_type": "code",
   "execution_count": 30,
   "id": "88b9d1c3",
   "metadata": {},
   "outputs": [
    {
     "data": {
      "text/html": [
       "<div>\n",
       "<style scoped>\n",
       "    .dataframe tbody tr th:only-of-type {\n",
       "        vertical-align: middle;\n",
       "    }\n",
       "\n",
       "    .dataframe tbody tr th {\n",
       "        vertical-align: top;\n",
       "    }\n",
       "\n",
       "    .dataframe thead th {\n",
       "        text-align: right;\n",
       "    }\n",
       "</style>\n",
       "<table border=\"1\" class=\"dataframe\">\n",
       "  <thead>\n",
       "    <tr style=\"text-align: right;\">\n",
       "      <th></th>\n",
       "      <th>Book Title</th>\n",
       "      <th>Author Name</th>\n",
       "      <th>Volume Sales</th>\n",
       "      <th>Publisher</th>\n",
       "      <th>Genre</th>\n",
       "    </tr>\n",
       "  </thead>\n",
       "  <tbody>\n",
       "    <tr>\n",
       "      <th>0</th>\n",
       "      <td>Da Vinci Code,The</td>\n",
       "      <td>Brown, Dan</td>\n",
       "      <td>5,094,805</td>\n",
       "      <td>Transworld</td>\n",
       "      <td>Crime, Thriller &amp; Adventure</td>\n",
       "    </tr>\n",
       "    <tr>\n",
       "      <th>1</th>\n",
       "      <td>Harry Potter and the Deathly Hallows</td>\n",
       "      <td>Rowling, J.K.</td>\n",
       "      <td>4,475,152</td>\n",
       "      <td>Bloomsbury</td>\n",
       "      <td>Children's Fiction</td>\n",
       "    </tr>\n",
       "    <tr>\n",
       "      <th>2</th>\n",
       "      <td>Harry Potter and the Philosopher's Stone</td>\n",
       "      <td>Rowling, J.K.</td>\n",
       "      <td>4,200,654</td>\n",
       "      <td>Bloomsbury</td>\n",
       "      <td>Children's Fiction</td>\n",
       "    </tr>\n",
       "    <tr>\n",
       "      <th>3</th>\n",
       "      <td>Harry Potter and the Order of the Phoenix</td>\n",
       "      <td>Rowling, J.K.</td>\n",
       "      <td>4,179,479</td>\n",
       "      <td>Bloomsbury</td>\n",
       "      <td>Children's Fiction</td>\n",
       "    </tr>\n",
       "    <tr>\n",
       "      <th>4</th>\n",
       "      <td>Fifty Shades of Grey</td>\n",
       "      <td>James, E. L.</td>\n",
       "      <td>3,758,936</td>\n",
       "      <td>Random House</td>\n",
       "      <td>Romance &amp; Sagas</td>\n",
       "    </tr>\n",
       "    <tr>\n",
       "      <th>...</th>\n",
       "      <td>...</td>\n",
       "      <td>...</td>\n",
       "      <td>...</td>\n",
       "      <td>...</td>\n",
       "      <td>...</td>\n",
       "    </tr>\n",
       "    <tr>\n",
       "      <th>95</th>\n",
       "      <td>Ghost,The</td>\n",
       "      <td>Harris, Robert</td>\n",
       "      <td>807,311</td>\n",
       "      <td>Random House</td>\n",
       "      <td>General &amp; Literary Fiction</td>\n",
       "    </tr>\n",
       "    <tr>\n",
       "      <th>96</th>\n",
       "      <td>Happy Days with the Naked Chef</td>\n",
       "      <td>Oliver, Jamie</td>\n",
       "      <td>794,201</td>\n",
       "      <td>Penguin</td>\n",
       "      <td>Food &amp; Drink: General</td>\n",
       "    </tr>\n",
       "    <tr>\n",
       "      <th>97</th>\n",
       "      <td>Hunger Games,The:Hunger Games Trilogy</td>\n",
       "      <td>Collins, Suzanne</td>\n",
       "      <td>792,187</td>\n",
       "      <td>Scholastic Ltd.</td>\n",
       "      <td>Young Adult Fiction</td>\n",
       "    </tr>\n",
       "    <tr>\n",
       "      <th>98</th>\n",
       "      <td>Lost Boy,The:A Foster Child's Search for the L...</td>\n",
       "      <td>Pelzer, Dave</td>\n",
       "      <td>791,507</td>\n",
       "      <td>Orion</td>\n",
       "      <td>Biography: General</td>\n",
       "    </tr>\n",
       "    <tr>\n",
       "      <th>99</th>\n",
       "      <td>Jamie's Ministry of Food:Anyone Can Learn to C...</td>\n",
       "      <td>Oliver, Jamie</td>\n",
       "      <td>791,095</td>\n",
       "      <td>Penguin</td>\n",
       "      <td>Food &amp; Drink: General</td>\n",
       "    </tr>\n",
       "  </tbody>\n",
       "</table>\n",
       "<p>100 rows × 5 columns</p>\n",
       "</div>"
      ],
      "text/plain": [
       "                                           Book Title       Author Name  \\\n",
       "0                                   Da Vinci Code,The        Brown, Dan   \n",
       "1                Harry Potter and the Deathly Hallows     Rowling, J.K.   \n",
       "2            Harry Potter and the Philosopher's Stone     Rowling, J.K.   \n",
       "3           Harry Potter and the Order of the Phoenix     Rowling, J.K.   \n",
       "4                                Fifty Shades of Grey      James, E. L.   \n",
       "..                                                ...               ...   \n",
       "95                                          Ghost,The    Harris, Robert   \n",
       "96                     Happy Days with the Naked Chef     Oliver, Jamie   \n",
       "97              Hunger Games,The:Hunger Games Trilogy  Collins, Suzanne   \n",
       "98  Lost Boy,The:A Foster Child's Search for the L...      Pelzer, Dave   \n",
       "99  Jamie's Ministry of Food:Anyone Can Learn to C...     Oliver, Jamie   \n",
       "\n",
       "   Volume Sales        Publisher                        Genre  \n",
       "0     5,094,805       Transworld  Crime, Thriller & Adventure  \n",
       "1     4,475,152       Bloomsbury           Children's Fiction  \n",
       "2     4,200,654       Bloomsbury           Children's Fiction  \n",
       "3     4,179,479       Bloomsbury           Children's Fiction  \n",
       "4     3,758,936     Random House              Romance & Sagas  \n",
       "..          ...              ...                          ...  \n",
       "95      807,311     Random House   General & Literary Fiction  \n",
       "96      794,201          Penguin        Food & Drink: General  \n",
       "97      792,187  Scholastic Ltd.          Young Adult Fiction  \n",
       "98      791,507            Orion           Biography: General  \n",
       "99      791,095          Penguin        Food & Drink: General  \n",
       "\n",
       "[100 rows x 5 columns]"
      ]
     },
     "execution_count": 30,
     "metadata": {},
     "output_type": "execute_result"
    }
   ],
   "source": [
    "df = pd.DataFrame({'Book Title':book,'Author Name':author,'Volume Sales':volum,'Publisher':publ,'Genre':genre})\n",
    "df"
   ]
  },
  {
   "cell_type": "code",
   "execution_count": 32,
   "id": "c4997c83",
   "metadata": {},
   "outputs": [],
   "source": [
    "server.close()"
   ]
  },
  {
   "cell_type": "code",
   "execution_count": null,
   "id": "fdd8169e",
   "metadata": {},
   "outputs": [],
   "source": []
  },
  {
   "cell_type": "markdown",
   "id": "1169b479",
   "metadata": {},
   "source": [
    "7. Scrape the details most watched tv series of all time from imdb.com.\n",
    "Url = https://www.imdb.com/list/ls095964455/\n",
    "You have to find the following details:\n",
    "A) Name\n",
    "B) Year span\n",
    "C) Genre\n",
    "D) Run time\n",
    "E) Ratings\n",
    "F) Votes\n"
   ]
  },
  {
   "cell_type": "code",
   "execution_count": 33,
   "id": "347e1d43",
   "metadata": {},
   "outputs": [],
   "source": [
    "driver = webdriver.Chrome()\n",
    "driver.get('https://www.imdb.com/list/ls095964455/')"
   ]
  },
  {
   "cell_type": "code",
   "execution_count": 34,
   "id": "54a83191",
   "metadata": {},
   "outputs": [
    {
     "data": {
      "text/plain": [
       "100"
      ]
     },
     "execution_count": 34,
     "metadata": {},
     "output_type": "execute_result"
    }
   ],
   "source": [
    "name = []\n",
    "\n",
    "name_tags = driver.find_elements(By.XPATH, '//h3[@class=\"lister-item-header\"]/a')\n",
    "for i in name_tags:\n",
    "    names = i.text\n",
    "    name.append(names)\n",
    "len(name)"
   ]
  },
  {
   "cell_type": "code",
   "execution_count": 35,
   "id": "ef45b1a6",
   "metadata": {},
   "outputs": [
    {
     "data": {
      "text/plain": [
       "100"
      ]
     },
     "execution_count": 35,
     "metadata": {},
     "output_type": "execute_result"
    }
   ],
   "source": [
    "year = []\n",
    "\n",
    "year_tags = driver.find_elements(By.XPATH, '//h3[@class=\"lister-item-header\"]/span[2]')\n",
    "for i in year_tags:\n",
    "    years = i.text\n",
    "    year.append(years)\n",
    "len(year)"
   ]
  },
  {
   "cell_type": "code",
   "execution_count": 36,
   "id": "74ca4b71",
   "metadata": {},
   "outputs": [
    {
     "data": {
      "text/plain": [
       "100"
      ]
     },
     "execution_count": 36,
     "metadata": {},
     "output_type": "execute_result"
    }
   ],
   "source": [
    "genre = []\n",
    "\n",
    "genre_tags = driver.find_elements(By.XPATH, '//span[@class=\"genre\"]')\n",
    "for i in genre_tags:\n",
    "    genres = i.text\n",
    "    genre.append(genres)\n",
    "len(genre)"
   ]
  },
  {
   "cell_type": "code",
   "execution_count": 37,
   "id": "c633afa9",
   "metadata": {},
   "outputs": [
    {
     "data": {
      "text/plain": [
       "100"
      ]
     },
     "execution_count": 37,
     "metadata": {},
     "output_type": "execute_result"
    }
   ],
   "source": [
    "run = []\n",
    "\n",
    "run_tags = driver.find_elements(By.XPATH, '//span[@class=\"runtime\"]')\n",
    "for i in run_tags:\n",
    "    runs = i.text\n",
    "    run.append(runs)\n",
    "len(run)"
   ]
  },
  {
   "cell_type": "code",
   "execution_count": 39,
   "id": "08fdbd64",
   "metadata": {},
   "outputs": [
    {
     "data": {
      "text/plain": [
       "100"
      ]
     },
     "execution_count": 39,
     "metadata": {},
     "output_type": "execute_result"
    }
   ],
   "source": [
    "rating = []\n",
    "\n",
    "rating_tags = driver.find_elements(By.XPATH, '//div[@class=\"ipl-rating-widget\"]/div/span[2]')\n",
    "for i in rating_tags:\n",
    "    ratings = i.text\n",
    "    rating.append(ratings)\n",
    "len(rating)"
   ]
  },
  {
   "cell_type": "code",
   "execution_count": 40,
   "id": "d639897f",
   "metadata": {},
   "outputs": [
    {
     "data": {
      "text/plain": [
       "100"
      ]
     },
     "execution_count": 40,
     "metadata": {},
     "output_type": "execute_result"
    }
   ],
   "source": [
    "vote = []\n",
    "\n",
    "vote_tags = driver.find_elements(By.XPATH, '//*[@id=\"main\"]/div/div/div/div/div[2]/p[4]/span[2]')\n",
    "for i in vote_tags:\n",
    "    votes = i.text\n",
    "    vote.append(votes)\n",
    "len(vote)"
   ]
  },
  {
   "cell_type": "code",
   "execution_count": 41,
   "id": "cf244c43",
   "metadata": {},
   "outputs": [
    {
     "data": {
      "text/html": [
       "<div>\n",
       "<style scoped>\n",
       "    .dataframe tbody tr th:only-of-type {\n",
       "        vertical-align: middle;\n",
       "    }\n",
       "\n",
       "    .dataframe tbody tr th {\n",
       "        vertical-align: top;\n",
       "    }\n",
       "\n",
       "    .dataframe thead th {\n",
       "        text-align: right;\n",
       "    }\n",
       "</style>\n",
       "<table border=\"1\" class=\"dataframe\">\n",
       "  <thead>\n",
       "    <tr style=\"text-align: right;\">\n",
       "      <th></th>\n",
       "      <th>Show Name</th>\n",
       "      <th>Year</th>\n",
       "      <th>Genre</th>\n",
       "      <th>Run time</th>\n",
       "      <th>Rating</th>\n",
       "      <th>Votes</th>\n",
       "    </tr>\n",
       "  </thead>\n",
       "  <tbody>\n",
       "    <tr>\n",
       "      <th>0</th>\n",
       "      <td>Game of Thrones</td>\n",
       "      <td>(2011–2019)</td>\n",
       "      <td>Action, Adventure, Drama</td>\n",
       "      <td>57 min</td>\n",
       "      <td>9.2</td>\n",
       "      <td>2,164,106</td>\n",
       "    </tr>\n",
       "    <tr>\n",
       "      <th>1</th>\n",
       "      <td>Stranger Things</td>\n",
       "      <td>(2016–2024)</td>\n",
       "      <td>Drama, Fantasy, Horror</td>\n",
       "      <td>51 min</td>\n",
       "      <td>8.7</td>\n",
       "      <td>1,243,716</td>\n",
       "    </tr>\n",
       "    <tr>\n",
       "      <th>2</th>\n",
       "      <td>The Walking Dead</td>\n",
       "      <td>(2010–2022)</td>\n",
       "      <td>Drama, Horror, Thriller</td>\n",
       "      <td>44 min</td>\n",
       "      <td>8.1</td>\n",
       "      <td>1,027,986</td>\n",
       "    </tr>\n",
       "    <tr>\n",
       "      <th>3</th>\n",
       "      <td>13 Reasons Why</td>\n",
       "      <td>(2017–2020)</td>\n",
       "      <td>Drama, Mystery, Thriller</td>\n",
       "      <td>60 min</td>\n",
       "      <td>7.5</td>\n",
       "      <td>302,414</td>\n",
       "    </tr>\n",
       "    <tr>\n",
       "      <th>4</th>\n",
       "      <td>The 100</td>\n",
       "      <td>(2014–2020)</td>\n",
       "      <td>Drama, Mystery, Sci-Fi</td>\n",
       "      <td>43 min</td>\n",
       "      <td>7.6</td>\n",
       "      <td>261,507</td>\n",
       "    </tr>\n",
       "    <tr>\n",
       "      <th>...</th>\n",
       "      <td>...</td>\n",
       "      <td>...</td>\n",
       "      <td>...</td>\n",
       "      <td>...</td>\n",
       "      <td>...</td>\n",
       "      <td>...</td>\n",
       "    </tr>\n",
       "    <tr>\n",
       "      <th>95</th>\n",
       "      <td>Reign</td>\n",
       "      <td>(2013–2017)</td>\n",
       "      <td>Drama</td>\n",
       "      <td>42 min</td>\n",
       "      <td>7.4</td>\n",
       "      <td>51,723</td>\n",
       "    </tr>\n",
       "    <tr>\n",
       "      <th>96</th>\n",
       "      <td>A Series of Unfortunate Events</td>\n",
       "      <td>(2017–2019)</td>\n",
       "      <td>Adventure, Comedy, Drama</td>\n",
       "      <td>50 min</td>\n",
       "      <td>7.8</td>\n",
       "      <td>63,752</td>\n",
       "    </tr>\n",
       "    <tr>\n",
       "      <th>97</th>\n",
       "      <td>Criminal Minds</td>\n",
       "      <td>(2005– )</td>\n",
       "      <td>Crime, Drama, Mystery</td>\n",
       "      <td>42 min</td>\n",
       "      <td>8.1</td>\n",
       "      <td>207,791</td>\n",
       "    </tr>\n",
       "    <tr>\n",
       "      <th>98</th>\n",
       "      <td>Scream: The TV Series</td>\n",
       "      <td>(2015–2019)</td>\n",
       "      <td>Comedy, Crime, Drama</td>\n",
       "      <td>45 min</td>\n",
       "      <td>7</td>\n",
       "      <td>43,243</td>\n",
       "    </tr>\n",
       "    <tr>\n",
       "      <th>99</th>\n",
       "      <td>The Haunting of Hill House</td>\n",
       "      <td>(2018)</td>\n",
       "      <td>Drama, Horror, Mystery</td>\n",
       "      <td>572 min</td>\n",
       "      <td>8.6</td>\n",
       "      <td>258,513</td>\n",
       "    </tr>\n",
       "  </tbody>\n",
       "</table>\n",
       "<p>100 rows × 6 columns</p>\n",
       "</div>"
      ],
      "text/plain": [
       "                         Show Name         Year                     Genre  \\\n",
       "0                  Game of Thrones  (2011–2019)  Action, Adventure, Drama   \n",
       "1                  Stranger Things  (2016–2024)    Drama, Fantasy, Horror   \n",
       "2                 The Walking Dead  (2010–2022)   Drama, Horror, Thriller   \n",
       "3                   13 Reasons Why  (2017–2020)  Drama, Mystery, Thriller   \n",
       "4                          The 100  (2014–2020)    Drama, Mystery, Sci-Fi   \n",
       "..                             ...          ...                       ...   \n",
       "95                           Reign  (2013–2017)                     Drama   \n",
       "96  A Series of Unfortunate Events  (2017–2019)  Adventure, Comedy, Drama   \n",
       "97                  Criminal Minds     (2005– )     Crime, Drama, Mystery   \n",
       "98           Scream: The TV Series  (2015–2019)      Comedy, Crime, Drama   \n",
       "99      The Haunting of Hill House       (2018)    Drama, Horror, Mystery   \n",
       "\n",
       "   Run time Rating      Votes  \n",
       "0    57 min    9.2  2,164,106  \n",
       "1    51 min    8.7  1,243,716  \n",
       "2    44 min    8.1  1,027,986  \n",
       "3    60 min    7.5    302,414  \n",
       "4    43 min    7.6    261,507  \n",
       "..      ...    ...        ...  \n",
       "95   42 min    7.4     51,723  \n",
       "96   50 min    7.8     63,752  \n",
       "97   42 min    8.1    207,791  \n",
       "98   45 min      7     43,243  \n",
       "99  572 min    8.6    258,513  \n",
       "\n",
       "[100 rows x 6 columns]"
      ]
     },
     "execution_count": 41,
     "metadata": {},
     "output_type": "execute_result"
    }
   ],
   "source": [
    "df = pd.DataFrame({'Show Name':name,'Year':year,'Genre':genre,'Run time':run,'Rating':rating,'Votes':vote})\n",
    "df"
   ]
  },
  {
   "cell_type": "code",
   "execution_count": 42,
   "id": "b1327e87",
   "metadata": {},
   "outputs": [],
   "source": [
    "driver.close()"
   ]
  },
  {
   "cell_type": "code",
   "execution_count": null,
   "id": "a3987028",
   "metadata": {},
   "outputs": [],
   "source": []
  },
  {
   "cell_type": "markdown",
   "id": "8e58337c",
   "metadata": {},
   "source": [
    "8. Details of Datasetsfrom UCI machine learning repositories.\n",
    "Url = https://archive.ics.uci.edu/\n",
    "You have to find the following details:\n",
    "A) Dataset name\n",
    "B) Data type\n",
    "C) Task\n",
    "D) Attribute type\n",
    "E) No of instances\n",
    "F) No of attribute\n",
    "G) Year\n",
    "Note: - from the home page you have to go to the ShowAllDataset page through code."
   ]
  },
  {
   "cell_type": "code",
   "execution_count": 45,
   "id": "16859852",
   "metadata": {},
   "outputs": [],
   "source": [
    "driver = webdriver.Chrome()\n",
    "driver.get('https://archive.ics.uci.edu/ml/index.php')"
   ]
  },
  {
   "cell_type": "code",
   "execution_count": 46,
   "id": "c74f6732",
   "metadata": {},
   "outputs": [],
   "source": [
    "button = driver.find_element(By.XPATH, '//span[@class=\"whitetext\"]/a/font')\n",
    "button.click()"
   ]
  },
  {
   "cell_type": "code",
   "execution_count": 47,
   "id": "7bea87da",
   "metadata": {},
   "outputs": [
    {
     "data": {
      "text/plain": [
       "622"
      ]
     },
     "execution_count": 47,
     "metadata": {},
     "output_type": "execute_result"
    }
   ],
   "source": [
    "name = []\n",
    "\n",
    "name_tags = driver.find_elements(By.XPATH, '//p[@class=\"normal\"]/b/a')\n",
    "for i in name_tags:\n",
    "    names = i.text\n",
    "    name.append(names)\n",
    "len(name)"
   ]
  },
  {
   "cell_type": "code",
   "execution_count": 50,
   "id": "c999f893",
   "metadata": {},
   "outputs": [
    {
     "data": {
      "text/plain": [
       "622"
      ]
     },
     "execution_count": 50,
     "metadata": {},
     "output_type": "execute_result"
    }
   ],
   "source": [
    "d_type = []\n",
    "\n",
    "d_type_tags = driver.find_elements(By.XPATH, '/html/body/table[2]/tbody//table[2]/tbody/tr/td[2]/p[1]')\n",
    "for i in d_type_tags[1:623]:\n",
    "    d_types = i.text\n",
    "    d_type.append(d_types)\n",
    "len(d_type)"
   ]
  },
  {
   "cell_type": "code",
   "execution_count": 51,
   "id": "576f689d",
   "metadata": {},
   "outputs": [
    {
     "data": {
      "text/plain": [
       "622"
      ]
     },
     "execution_count": 51,
     "metadata": {},
     "output_type": "execute_result"
    }
   ],
   "source": [
    "task = []\n",
    "\n",
    "task_tags = driver.find_elements(By.XPATH, '/html/body/table[2]/tbody/tr/td[2]/table[2]/tbody/tr/td[3]/p')\n",
    "for i in task_tags[1:623]:\n",
    "    tasks = i.text\n",
    "    task.append(tasks)\n",
    "len(task)"
   ]
  },
  {
   "cell_type": "code",
   "execution_count": 52,
   "id": "def244ac",
   "metadata": {},
   "outputs": [
    {
     "data": {
      "text/plain": [
       "622"
      ]
     },
     "execution_count": 52,
     "metadata": {},
     "output_type": "execute_result"
    }
   ],
   "source": [
    "a_type = []\n",
    "\n",
    "a_type_tags = driver.find_elements(By.XPATH, '/html/body/table[2]/tbody/tr/td[2]/table[2]/tbody/tr/td[4]/p')\n",
    "for i in a_type_tags[1:623]:\n",
    "    a_types = i.text\n",
    "    a_type.append(a_types)\n",
    "len(a_type)"
   ]
  },
  {
   "cell_type": "code",
   "execution_count": 53,
   "id": "6094d514",
   "metadata": {},
   "outputs": [
    {
     "data": {
      "text/plain": [
       "622"
      ]
     },
     "execution_count": 53,
     "metadata": {},
     "output_type": "execute_result"
    }
   ],
   "source": [
    "no = []\n",
    "\n",
    "no_tags = driver.find_elements(By.XPATH, '/html/body/table[2]/tbody/tr/td[2]/table[2]/tbody/tr/td[5]/p')\n",
    "for i in no_tags[1:623]:\n",
    "    nos = i.text\n",
    "    no.append(nos)\n",
    "len(no)"
   ]
  },
  {
   "cell_type": "code",
   "execution_count": 54,
   "id": "7ea8037e",
   "metadata": {},
   "outputs": [
    {
     "data": {
      "text/plain": [
       "622"
      ]
     },
     "execution_count": 54,
     "metadata": {},
     "output_type": "execute_result"
    }
   ],
   "source": [
    "no_at = []\n",
    "\n",
    "no_at_tags = driver.find_elements(By.XPATH, '/html/body/table[2]/tbody/tr/td[2]/table[2]/tbody/tr/td[6]/p')\n",
    "for i in no_at_tags[1:623]:\n",
    "    nos_at = i.text\n",
    "    no_at.append(nos_at)\n",
    "len(no_at)"
   ]
  },
  {
   "cell_type": "code",
   "execution_count": 57,
   "id": "7f4fbb73",
   "metadata": {},
   "outputs": [
    {
     "data": {
      "text/plain": [
       "622"
      ]
     },
     "execution_count": 57,
     "metadata": {},
     "output_type": "execute_result"
    }
   ],
   "source": [
    "year = []\n",
    "\n",
    "year_tags = driver.find_elements(By.XPATH, '/html/body/table[2]/tbody/tr/td[2]/table[2]/tbody/tr/td[7]/p')\n",
    "for i in year_tags[1:623]:\n",
    "    years = i.text\n",
    "    year.append(years)\n",
    "len(year)\n",
    "\n",
    "# i had to select from 1 to 623 because for some reason, with that xpath the program find the title of column as well as \n",
    "# the content so i eliminate it in this maner. "
   ]
  },
  {
   "cell_type": "code",
   "execution_count": 58,
   "id": "76639de5",
   "metadata": {},
   "outputs": [
    {
     "data": {
      "text/html": [
       "<div>\n",
       "<style scoped>\n",
       "    .dataframe tbody tr th:only-of-type {\n",
       "        vertical-align: middle;\n",
       "    }\n",
       "\n",
       "    .dataframe tbody tr th {\n",
       "        vertical-align: top;\n",
       "    }\n",
       "\n",
       "    .dataframe thead th {\n",
       "        text-align: right;\n",
       "    }\n",
       "</style>\n",
       "<table border=\"1\" class=\"dataframe\">\n",
       "  <thead>\n",
       "    <tr style=\"text-align: right;\">\n",
       "      <th></th>\n",
       "      <th>DataSet Name</th>\n",
       "      <th>Data Type</th>\n",
       "      <th>Task</th>\n",
       "      <th>Attribute type</th>\n",
       "      <th>No of instances</th>\n",
       "      <th>No of attribute</th>\n",
       "      <th>Year</th>\n",
       "    </tr>\n",
       "  </thead>\n",
       "  <tbody>\n",
       "    <tr>\n",
       "      <th>0</th>\n",
       "      <td>Abalone</td>\n",
       "      <td>Multivariate</td>\n",
       "      <td>Classification</td>\n",
       "      <td>Categorical, Integer, Real</td>\n",
       "      <td>4177</td>\n",
       "      <td>8</td>\n",
       "      <td>1995</td>\n",
       "    </tr>\n",
       "    <tr>\n",
       "      <th>1</th>\n",
       "      <td>Adult</td>\n",
       "      <td>Multivariate</td>\n",
       "      <td>Classification</td>\n",
       "      <td>Categorical, Integer</td>\n",
       "      <td>48842</td>\n",
       "      <td>14</td>\n",
       "      <td>1996</td>\n",
       "    </tr>\n",
       "    <tr>\n",
       "      <th>2</th>\n",
       "      <td>Annealing</td>\n",
       "      <td>Multivariate</td>\n",
       "      <td>Classification</td>\n",
       "      <td>Categorical, Integer, Real</td>\n",
       "      <td>798</td>\n",
       "      <td>38</td>\n",
       "      <td></td>\n",
       "    </tr>\n",
       "    <tr>\n",
       "      <th>3</th>\n",
       "      <td>Anonymous Microsoft Web Data</td>\n",
       "      <td></td>\n",
       "      <td>Recommender-Systems</td>\n",
       "      <td>Categorical</td>\n",
       "      <td>37711</td>\n",
       "      <td>294</td>\n",
       "      <td>1998</td>\n",
       "    </tr>\n",
       "    <tr>\n",
       "      <th>4</th>\n",
       "      <td>Arrhythmia</td>\n",
       "      <td>Multivariate</td>\n",
       "      <td>Classification</td>\n",
       "      <td>Categorical, Integer, Real</td>\n",
       "      <td>452</td>\n",
       "      <td>279</td>\n",
       "      <td>1998</td>\n",
       "    </tr>\n",
       "    <tr>\n",
       "      <th>...</th>\n",
       "      <td>...</td>\n",
       "      <td>...</td>\n",
       "      <td>...</td>\n",
       "      <td>...</td>\n",
       "      <td>...</td>\n",
       "      <td>...</td>\n",
       "      <td>...</td>\n",
       "    </tr>\n",
       "    <tr>\n",
       "      <th>617</th>\n",
       "      <td>Influenza outbreak event prediction via Twitte...</td>\n",
       "      <td>Multivariate</td>\n",
       "      <td>Classification</td>\n",
       "      <td>Integer, Real</td>\n",
       "      <td>75840</td>\n",
       "      <td>525</td>\n",
       "      <td>2020</td>\n",
       "    </tr>\n",
       "    <tr>\n",
       "      <th>618</th>\n",
       "      <td>Turkish Music Emotion Dataset</td>\n",
       "      <td>Multivariate</td>\n",
       "      <td>Classification</td>\n",
       "      <td>Integer, Real</td>\n",
       "      <td>400</td>\n",
       "      <td>50</td>\n",
       "      <td>2020</td>\n",
       "    </tr>\n",
       "    <tr>\n",
       "      <th>619</th>\n",
       "      <td>Maternal Health Risk Data Set</td>\n",
       "      <td></td>\n",
       "      <td>Classification</td>\n",
       "      <td></td>\n",
       "      <td>1014</td>\n",
       "      <td>7</td>\n",
       "      <td>2020</td>\n",
       "    </tr>\n",
       "    <tr>\n",
       "      <th>620</th>\n",
       "      <td>Room Occupancy Estimation</td>\n",
       "      <td>Multivariate, Time-Series</td>\n",
       "      <td>Classification</td>\n",
       "      <td>Real</td>\n",
       "      <td>10129</td>\n",
       "      <td>16</td>\n",
       "      <td>2021</td>\n",
       "    </tr>\n",
       "    <tr>\n",
       "      <th>621</th>\n",
       "      <td>Image Recognition Task Execution Times in Mobi...</td>\n",
       "      <td>Univariate</td>\n",
       "      <td>Regression</td>\n",
       "      <td>Real</td>\n",
       "      <td>4000</td>\n",
       "      <td>2</td>\n",
       "      <td>2021</td>\n",
       "    </tr>\n",
       "  </tbody>\n",
       "</table>\n",
       "<p>622 rows × 7 columns</p>\n",
       "</div>"
      ],
      "text/plain": [
       "                                          DataSet Name  \\\n",
       "0                                              Abalone   \n",
       "1                                                Adult   \n",
       "2                                            Annealing   \n",
       "3                         Anonymous Microsoft Web Data   \n",
       "4                                           Arrhythmia   \n",
       "..                                                 ...   \n",
       "617  Influenza outbreak event prediction via Twitte...   \n",
       "618                      Turkish Music Emotion Dataset   \n",
       "619                      Maternal Health Risk Data Set   \n",
       "620                          Room Occupancy Estimation   \n",
       "621  Image Recognition Task Execution Times in Mobi...   \n",
       "\n",
       "                      Data Type                  Task  \\\n",
       "0                 Multivariate        Classification    \n",
       "1                 Multivariate        Classification    \n",
       "2                 Multivariate        Classification    \n",
       "3                                Recommender-Systems    \n",
       "4                 Multivariate        Classification    \n",
       "..                          ...                   ...   \n",
       "617               Multivariate        Classification    \n",
       "618               Multivariate        Classification    \n",
       "619                                   Classification    \n",
       "620  Multivariate, Time-Series        Classification    \n",
       "621                 Univariate            Regression    \n",
       "\n",
       "                  Attribute type No of instances No of attribute   Year  \n",
       "0    Categorical, Integer, Real            4177               8   1995   \n",
       "1          Categorical, Integer           48842              14   1996   \n",
       "2    Categorical, Integer, Real             798              38          \n",
       "3                   Categorical           37711             294   1998   \n",
       "4    Categorical, Integer, Real             452             279   1998   \n",
       "..                           ...             ...             ...    ...  \n",
       "617               Integer, Real           75840             525   2020   \n",
       "618               Integer, Real             400              50   2020   \n",
       "619                                        1014               7   2020   \n",
       "620                        Real           10129              16   2021   \n",
       "621                        Real            4000               2   2021   \n",
       "\n",
       "[622 rows x 7 columns]"
      ]
     },
     "execution_count": 58,
     "metadata": {},
     "output_type": "execute_result"
    }
   ],
   "source": [
    "df = pd.DataFrame({'DataSet Name':name,'Data Type':d_type,'Task':task, 'Attribute type':a_type,'No of instances':no, 'No of attribute':no_at, 'Year':year})\n",
    "df"
   ]
  },
  {
   "cell_type": "code",
   "execution_count": 59,
   "id": "dd32078b",
   "metadata": {},
   "outputs": [],
   "source": [
    "driver.close()"
   ]
  },
  {
   "cell_type": "code",
   "execution_count": null,
   "id": "bb2d0b60",
   "metadata": {},
   "outputs": [],
   "source": []
  },
  {
   "cell_type": "markdown",
   "id": "8d65fb27",
   "metadata": {},
   "source": [
    "9. Scrape the details of Data science recruiters Url = https://www.naukri.com/hr-recruiters-consultants\n",
    "You have to find the following details:\n",
    "A) Name\n",
    "B) Designation\n",
    "C)Company\n",
    "D)Skills they hire for\n",
    "E) Location\n",
    "Note: - From naukri.com homepage click on the recruiters option and the on the search pane type Data science and\n",
    "click on search. All this should be done through code"
   ]
  },
  {
   "cell_type": "code",
   "execution_count": 9,
   "id": "5be82766",
   "metadata": {},
   "outputs": [],
   "source": [
    "driver = uc.Chrome()\n",
    "driver.get('https://www.naukri.com/hr-recruiters-consultants') # i put the link given because I cannot find recruiters option"
   ]
  },
  {
   "cell_type": "code",
   "execution_count": 10,
   "id": "894057c6",
   "metadata": {},
   "outputs": [],
   "source": [
    "search = driver.find_element(By.XPATH, '//input[@class=\"sugInp\"]')\n",
    "search.send_keys('Data Science')"
   ]
  },
  {
   "cell_type": "code",
   "execution_count": 11,
   "id": "7cadc980",
   "metadata": {},
   "outputs": [],
   "source": [
    "button = driver.find_element(By.ID, 'qsbFormBtn')\n",
    "button.click()"
   ]
  },
  {
   "cell_type": "code",
   "execution_count": 14,
   "id": "bf8a2866",
   "metadata": {},
   "outputs": [
    {
     "data": {
      "text/plain": [
       "50"
      ]
     },
     "execution_count": 14,
     "metadata": {},
     "output_type": "execute_result"
    }
   ],
   "source": [
    "job_name = []\n",
    "\n",
    "job_name_tags = driver.find_elements(By.XPATH, '//span[@class=\"fl ellipsis\"]')\n",
    "for i in job_name_tags:\n",
    "    job_names = i.text\n",
    "    job_name.append(job_names)\n",
    "len(job_name)"
   ]
  },
  {
   "cell_type": "code",
   "execution_count": 16,
   "id": "69850fd7",
   "metadata": {},
   "outputs": [
    {
     "data": {
      "text/plain": [
       "50"
      ]
     },
     "execution_count": 16,
     "metadata": {},
     "output_type": "execute_result"
    }
   ],
   "source": [
    "designation = []\n",
    "\n",
    "designation_tags = driver.find_elements(By.XPATH,'//span[@class=\"ellipsis clr\"]')\n",
    "for i in designation_tags:\n",
    "    designations = i.text\n",
    "    designation.append(designations)\n",
    "len(designation)"
   ]
  },
  {
   "cell_type": "code",
   "execution_count": 17,
   "id": "73083e17",
   "metadata": {},
   "outputs": [
    {
     "data": {
      "text/plain": [
       "50"
      ]
     },
     "execution_count": 17,
     "metadata": {},
     "output_type": "execute_result"
    }
   ],
   "source": [
    "company = []\n",
    "\n",
    "company_tags = driver.find_elements(By.XPATH, '//a[@class=\"ellipsis\"][2]')\n",
    "for i in company_tags:\n",
    "    companys = i.text\n",
    "    company.append(companys)\n",
    "len(company)"
   ]
  },
  {
   "cell_type": "code",
   "execution_count": 18,
   "id": "ca3581cf",
   "metadata": {},
   "outputs": [
    {
     "data": {
      "text/plain": [
       "50"
      ]
     },
     "execution_count": 18,
     "metadata": {},
     "output_type": "execute_result"
    }
   ],
   "source": [
    "skill = []\n",
    "\n",
    "skill_tags = driver.find_elements(By.XPATH, '//div[@class=\"hireSec highlightable\"]')\n",
    "for i in skill_tags:\n",
    "    skills = i.text\n",
    "    skill.append(skills)\n",
    "len(skill)"
   ]
  },
  {
   "cell_type": "code",
   "execution_count": 19,
   "id": "7b2b9847",
   "metadata": {},
   "outputs": [
    {
     "data": {
      "text/plain": [
       "49"
      ]
     },
     "execution_count": 19,
     "metadata": {},
     "output_type": "execute_result"
    }
   ],
   "source": [
    "location = []\n",
    "\n",
    "location_tags = driver.find_elements(By.XPATH,'//small[@class=\"ellipsis\"]')\n",
    "for i in location_tags:\n",
    "    locations = i.text\n",
    "    location.append(locations)\n",
    "len(location)"
   ]
  },
  {
   "cell_type": "code",
   "execution_count": null,
   "id": "f03bf877",
   "metadata": {},
   "outputs": [],
   "source": [
    "driver.close()"
   ]
  }
 ],
 "metadata": {
  "kernelspec": {
   "display_name": "Python 3 (ipykernel)",
   "language": "python",
   "name": "python3"
  },
  "language_info": {
   "codemirror_mode": {
    "name": "ipython",
    "version": 3
   },
   "file_extension": ".py",
   "mimetype": "text/x-python",
   "name": "python",
   "nbconvert_exporter": "python",
   "pygments_lexer": "ipython3",
   "version": "3.9.12"
  }
 },
 "nbformat": 4,
 "nbformat_minor": 5
}
